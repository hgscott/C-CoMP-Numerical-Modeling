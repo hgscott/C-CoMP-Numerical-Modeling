{
 "cells": [
  {
   "cell_type": "markdown",
   "metadata": {},
   "source": [
    "# Example Visualizations with COBRApy\n",
    "COBRApy does not have built in visualization tools like the COBRA toolbox, but\n",
    "there are separate visualization packages that use COBRApy, including Escher and\n",
    "d3 flux."
   ]
  },
  {
   "cell_type": "code",
   "execution_count": 2,
   "metadata": {},
   "outputs": [],
   "source": [
    "import cobra\n",
    "import escher\n",
    "import d3flux"
   ]
  },
  {
   "cell_type": "markdown",
   "metadata": {},
   "source": [
    "## Escher Visualizations"
   ]
  },
  {
   "cell_type": "code",
   "execution_count": 4,
   "metadata": {},
   "outputs": [
    {
     "name": "stdout",
     "output_type": "stream",
     "text": [
      "Downloading Map from https://escher.github.io/1-0-0/6/maps/Escherichia%20coli/e_coli_core.Core%20metabolism.json\n",
      "Downloading Model from https://escher.github.io/1-0-0/6/models/Escherichia%20coli/e_coli_core.json\n"
     ]
    },
    {
     "data": {
      "application/vnd.jupyter.widget-view+json": {
       "model_id": "6eb56dcb679c4879879ed17fa8f9d44f",
       "version_major": 2,
       "version_minor": 0
      },
      "text/plain": [
       "Builder()"
      ]
     },
     "metadata": {},
     "output_type": "display_data"
    }
   ],
   "source": [
    "builder = escher.Builder(\n",
    "    map_name='e_coli_core.Core metabolism',\n",
    "    model_name='e_coli_core',\n",
    ")\n",
    "builder"
   ]
  },
  {
   "cell_type": "markdown",
   "metadata": {},
   "source": [
    "The red blood cell model is already saved in this repo, so you should not need\n",
    "to run the following line, but if you do need to download the model you can do:"
   ]
  },
  {
   "cell_type": "code",
   "execution_count": null,
   "metadata": {},
   "outputs": [],
   "source": [
    "# !wget -nc http://bigg.ucsd.edu/static/models/iAB_RBC_283.json"
   ]
  },
  {
   "cell_type": "code",
   "execution_count": null,
   "metadata": {},
   "outputs": [],
   "source": [
    "# Add the model to the Escher Builder with the model_json option\n",
    "builder = escher.Builder(model_json='iAB_RBC_283.json')\n",
    "builder"
   ]
  },
  {
   "cell_type": "markdown",
   "metadata": {},
   "source": [
    "## Simple d3.js based flux visualizations"
   ]
  },
  {
   "cell_type": "code",
   "execution_count": null,
   "metadata": {},
   "outputs": [],
   "source": [
    "model = cobra.core.Model('simple_model')\n",
    "\n",
    "A = cobra.core.Metabolite('A')\n",
    "B = cobra.core.Metabolite('B')\n",
    "C = cobra.core.Metabolite('C')\n",
    "D = cobra.core.Metabolite('D')\n",
    "E = cobra.core.Metabolite('E')\n",
    "P = cobra.core.Metabolite('P')\n",
    "\n",
    "R1 = cobra.core.Reaction('R1')\n",
    "R2 = cobra.core.Reaction('R2')\n",
    "R3 = cobra.core.Reaction('R3')\n",
    "R4 = cobra.core.Reaction('R4')\n",
    "R5 = cobra.core.Reaction('R5')\n",
    "R6 = cobra.core.Reaction('R6')\n",
    "R7 = cobra.core.Reaction('R7')\n",
    "R8 = cobra.core.Reaction('R8')\n",
    "R9 = cobra.core.Reaction('R9')\n",
    "R10 = cobra.core.Reaction('R10')\n",
    "\n",
    "model.add_metabolites([A, B, C, D, E, P])\n",
    "model.add_reactions([R1, R2, R3, R4, R5, R6, R7, R8, R9, R10])\n",
    "\n",
    "model.reactions.R1.build_reaction_from_string('--> A')\n",
    "model.reactions.R2.build_reaction_from_string('<--> B')\n",
    "model.reactions.R3.build_reaction_from_string('P -->')\n",
    "model.reactions.R4.build_reaction_from_string('E -->')\n",
    "model.reactions.R5.build_reaction_from_string('A --> B')\n",
    "model.reactions.R6.build_reaction_from_string('A --> C')\n",
    "model.reactions.R7.build_reaction_from_string('A --> D')\n",
    "model.reactions.R8.build_reaction_from_string('B <--> C')\n",
    "model.reactions.R9.build_reaction_from_string('B --> P')\n",
    "model.reactions.R10.build_reaction_from_string('C + D --> E + P')\n",
    "\n",
    "d3flux.flux_map(model, display_name_format=lambda x: str(x.id), figsize=(300,250),\n",
    "         flux_dict={rxn.id: None for rxn in model.reactions})"
   ]
  }
 ],
 "metadata": {
  "interpreter": {
   "hash": "a503a3d9a3e8ef44f63a5b3b3513ecb27c2e6abf90ce73d116cc1f2c9a6acde7"
  },
  "kernelspec": {
   "display_name": "Python 3.7.13 ('ccomp-cobrapy')",
   "language": "python",
   "name": "python3"
  },
  "language_info": {
   "codemirror_mode": {
    "name": "ipython",
    "version": 3
   },
   "file_extension": ".py",
   "mimetype": "text/x-python",
   "name": "python",
   "nbconvert_exporter": "python",
   "pygments_lexer": "ipython3",
   "version": "3.7.13"
  },
  "orig_nbformat": 4
 },
 "nbformat": 4,
 "nbformat_minor": 2
}
